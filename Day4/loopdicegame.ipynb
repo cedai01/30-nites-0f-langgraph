{
 "cells": [
  {
   "cell_type": "code",
   "execution_count": 1,
   "id": "27076559",
   "metadata": {},
   "outputs": [],
   "source": [
    "from typing  import TypedDict\n",
    "import random\n",
    "from langgraph.graph import StateGraph, END\n",
    "\n",
    "class DiceGameState(TypedDict):\n",
    "    player_roll: int\n",
    "    computer_roll: int\n",
    "    result: str\n",
    "    continue_game: str\n",
    "\n",
    "def roll(state: DiceGameState) -> DiceGameState:\n",
    "    state[\"player_roll\"] = 0\n",
    "    state[\"computer_roll\"] = random.randint(0, 6)\n",
    "\n",
    "    return state\n",
    "\n",
    "def check_roll(state: DiceGameState) -> DiceGameState:\n",
    "\n",
    "    if state[\"player_roll\"] > state[\"computer_roll\"]:\n",
    "        state[\"result\"] = \"player_win\"\n",
    "    elif state[\"player_roll\"] < state[\"computer_roll\"]:\n",
    "        state[\"result\"] = \"computer_win\"\n",
    "    else:\n",
    "        state[\"result\"] = \"draw\"\n",
    "\n",
    "    return state\n",
    "\n",
    "def loop_node(state: DiceGameState) -> DiceGameState:\n",
    "    state[\"continue_game\"] = input(\"Do you want to continue? yes/no: \").lower()\n",
    "    if state[\"continue_game\"].lower() == \"yes\":\n",
    "        return \"roll\"\n",
    "    else:\n",
    "        return END\n",
    "    \n",
    "def results(state: DiceGameState) -> DiceGameState:\n",
    "    print(f\"You rolled {state['player_roll']}, Computer rolled {state['computer_roll']}\")\n",
    "    print(\"Result:\", state[\"result\"])\n",
    "\n",
    "    return state\n"
   ]
  },
  {
   "cell_type": "code",
   "execution_count": 2,
   "id": "a01e9979",
   "metadata": {},
   "outputs": [],
   "source": [
    "# Build graph\n",
    "graph = StateGraph(DiceGameState)\n",
    "graph.add_node(\"roll\", roll)\n",
    "graph.add_node(\"check_roll\", check_roll)\n",
    "graph.add_node(\"loop_node\", loop_node)\n",
    "graph.add_node(\"results\", results)\n",
    "\n",
    "graph.add_edge(\"roll\", \"check_roll\")\n",
    "graph.add_edge(\"check_roll\", \"results\")\n",
    "graph.add_edge(\"results\", \"loop_node\")\n",
    "\n",
    "graph.add_conditional_edges(\n",
    "    \"loop_node\",\n",
    "    loop_node,\n",
    "    {\n",
    "        \"yes\": \"roll\",\n",
    "        \"no\": END\n",
    "    }\n",
    ")\n",
    "\n",
    "graph.set_entry_point(\"roll\")\n",
    "app = graph.compile()\n"
   ]
  },
  {
   "cell_type": "code",
   "execution_count": 3,
   "id": "cf2397b0",
   "metadata": {},
   "outputs": [
    {
     "data": {
      "image/png": "[encoded data removed]",
      "text/plain": [
       "<IPython.core.display.Image object>"
      ]
     },
     "metadata": {},
     "output_type": "display_data"
    }
   ],
   "source": [
    "from IPython.display import Image, display\n",
    "display(Image(app.get_graph().draw_mermaid_png()))"
   ]
  }
 ],
 "metadata": {
  "kernelspec": {
   "display_name": "Python 3",
   "language": "python",
   "name": "python3"
  },
  "language_info": {
   "codemirror_mode": {
    "name": "ipython",
    "version": 3
   },
   "file_extension": ".py",
   "mimetype": "text/x-python",
   "name": "python",
   "nbconvert_exporter": "python",
   "pygments_lexer": "ipython3",
   "version": "3.13.5"
  }
 },
 "nbformat": 4,
 "nbformat_minor": 5
}
